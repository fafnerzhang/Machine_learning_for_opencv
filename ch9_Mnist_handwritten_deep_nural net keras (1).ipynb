{
 "cells": [
  {
   "cell_type": "code",
   "execution_count": 1,
   "metadata": {},
   "outputs": [],
   "source": [
    "import numpy as np\n",
    "np.random.seed(1337)"
   ]
  },
  {
   "cell_type": "code",
   "execution_count": 2,
   "metadata": {},
   "outputs": [
    {
     "name": "stderr",
     "output_type": "stream",
     "text": [
      "Using TensorFlow backend.\n"
     ]
    }
   ],
   "source": [
    "from keras.datasets import mnist\n",
    "(x_train,y_train),(x_test,y_test)=mnist.load_data()"
   ]
  },
  {
   "cell_type": "code",
   "execution_count": 3,
   "metadata": {},
   "outputs": [],
   "source": [
    "img_rows,img_cols=28,28\n",
    "x_train=x_train.reshape(x_train.shape[0],img_rows,img_cols,1)\n",
    "x_test=x_test.reshape(x_test.shape[0],img_rows,img_cols,1)\n",
    "input_shape=(img_rows,img_cols,1)\n",
    "x_train=x_train.astype('float32')/255.0\n",
    "x_test=x_test.astype('float32')/255.0"
   ]
  },
  {
   "cell_type": "code",
   "execution_count": 4,
   "metadata": {},
   "outputs": [],
   "source": [
    "from keras.utils import np_utils\n",
    "n_classes=10\n",
    "y_train=np_utils.to_categorical(y_train,n_classes)\n",
    "y_test=np_utils.to_categorical(y_test,n_classes)"
   ]
  },
  {
   "cell_type": "code",
   "execution_count": 5,
   "metadata": {},
   "outputs": [],
   "source": [
    "from keras import Sequential\n",
    "model=Sequential()"
   ]
  },
  {
   "cell_type": "code",
   "execution_count": 6,
   "metadata": {},
   "outputs": [
    {
     "name": "stderr",
     "output_type": "stream",
     "text": [
      "C:\\Users\\Paul\\Anaconda3\\envs\\tensorflow-gpu\\lib\\site-packages\\ipykernel\\__main__.py:4: UserWarning: Update your `Conv2D` call to the Keras 2 API: `Conv2D(32, (3, 3), input_shape=(28, 28, 1..., padding=\"valid\")`\n"
     ]
    }
   ],
   "source": [
    "from keras.layers import Conv2D\n",
    "n_filters=32\n",
    "kernal_size=(3,3)\n",
    "model.add(Conv2D(n_filters,kernal_size[0],kernal_size[1],border_mode='valid',input_shape=input_shape))"
   ]
  },
  {
   "cell_type": "code",
   "execution_count": 7,
   "metadata": {},
   "outputs": [],
   "source": [
    "from keras.layers import Activation\n",
    "model.add(Activation('relu'))"
   ]
  },
  {
   "cell_type": "code",
   "execution_count": 8,
   "metadata": {},
   "outputs": [
    {
     "name": "stderr",
     "output_type": "stream",
     "text": [
      "C:\\Users\\Paul\\Anaconda3\\envs\\tensorflow-gpu\\lib\\site-packages\\ipykernel\\__main__.py:1: UserWarning: Update your `Conv2D` call to the Keras 2 API: `Conv2D(32, (3, 3))`\n",
      "  if __name__ == '__main__':\n"
     ]
    }
   ],
   "source": [
    "model.add(Conv2D(n_filters,kernal_size[0],kernal_size[1]))\n",
    "model.add(Activation('relu'))"
   ]
  },
  {
   "cell_type": "code",
   "execution_count": 9,
   "metadata": {},
   "outputs": [],
   "source": [
    "from keras.layers import MaxPooling2D,Dropout\n",
    "pool_size=(2,2)\n",
    "model.add(MaxPooling2D(pool_size=pool_size))\n",
    "model.add(Dropout(0.25))"
   ]
  },
  {
   "cell_type": "code",
   "execution_count": 10,
   "metadata": {},
   "outputs": [],
   "source": [
    "from keras.layers import Flatten,Dense\n",
    "model.add(Flatten())\n",
    "model.add(Dense(128))\n",
    "model.add(Activation('relu'))\n",
    "model.add(Dropout(0.5))\n",
    "model.add(Dense(n_classes, activation='softmax'))\n",
    "model.compile(loss='categorical_crossentropy',optimizer='adadelta',metrics=['accuracy'])"
   ]
  },
  {
   "cell_type": "code",
   "execution_count": 15,
   "metadata": {},
   "outputs": [
    {
     "name": "stdout",
     "output_type": "stream",
     "text": [
      "Train on 60000 samples, validate on 10000 samples\n",
      "Epoch 1/12\n",
      "60000/60000 [==============================] - 4s 60us/step - loss: 0.0365 - acc: 0.9893 - val_loss: 0.0260 - val_acc: 0.9913\n",
      "Epoch 2/12\n",
      "60000/60000 [==============================] - 4s 60us/step - loss: 0.0335 - acc: 0.9899 - val_loss: 0.0261 - val_acc: 0.9916\n",
      "Epoch 3/12\n",
      "60000/60000 [==============================] - 4s 59us/step - loss: 0.0342 - acc: 0.9892 - val_loss: 0.0271 - val_acc: 0.9906\n",
      "Epoch 4/12\n",
      "60000/60000 [==============================] - 4s 58us/step - loss: 0.0318 - acc: 0.9901 - val_loss: 0.0268 - val_acc: 0.9915\n",
      "Epoch 5/12\n",
      "60000/60000 [==============================] - 4s 60us/step - loss: 0.0316 - acc: 0.9905 - val_loss: 0.0267 - val_acc: 0.9920\n",
      "Epoch 6/12\n",
      "60000/60000 [==============================] - 4s 63us/step - loss: 0.0313 - acc: 0.9910 - val_loss: 0.0272 - val_acc: 0.9916\n",
      "Epoch 7/12\n",
      "60000/60000 [==============================] - 4s 61us/step - loss: 0.0314 - acc: 0.9907 - val_loss: 0.0259 - val_acc: 0.9926\n",
      "Epoch 8/12\n",
      "60000/60000 [==============================] - 4s 62us/step - loss: 0.0308 - acc: 0.9909 - val_loss: 0.0262 - val_acc: 0.9928\n",
      "Epoch 9/12\n",
      "60000/60000 [==============================] - 4s 60us/step - loss: 0.0295 - acc: 0.9915 - val_loss: 0.0253 - val_acc: 0.9915\n",
      "Epoch 10/12\n",
      "60000/60000 [==============================] - 4s 60us/step - loss: 0.0293 - acc: 0.9915 - val_loss: 0.0292 - val_acc: 0.9910\n",
      "Epoch 11/12\n",
      "60000/60000 [==============================] - 4s 60us/step - loss: 0.0294 - acc: 0.9911 - val_loss: 0.0287 - val_acc: 0.9917\n",
      "Epoch 12/12\n",
      "60000/60000 [==============================] - 4s 60us/step - loss: 0.0270 - acc: 0.9923 - val_loss: 0.0260 - val_acc: 0.9920\n"
     ]
    },
    {
     "data": {
      "text/plain": [
       "<keras.callbacks.History at 0x1b167302b70>"
      ]
     },
     "execution_count": 15,
     "metadata": {},
     "output_type": "execute_result"
    }
   ],
   "source": [
    "model.fit(x_train, y_train, batch_size=128, epochs=12,verbose=1, validation_data=(x_test, y_test))"
   ]
  },
  {
   "cell_type": "code",
   "execution_count": 16,
   "metadata": {},
   "outputs": [
    {
     "data": {
      "text/plain": [
       "[0.025996307213246292, 0.992]"
      ]
     },
     "execution_count": 16,
     "metadata": {},
     "output_type": "execute_result"
    }
   ],
   "source": [
    "model.evaluate(x_test, y_test, verbose=0)"
   ]
  }
 ],
 "metadata": {
  "kernelspec": {
   "display_name": "Python [default]",
   "language": "python",
   "name": "python3"
  },
  "language_info": {
   "codemirror_mode": {
    "name": "ipython",
    "version": 3
   },
   "file_extension": ".py",
   "mimetype": "text/x-python",
   "name": "python",
   "nbconvert_exporter": "python",
   "pygments_lexer": "ipython3",
   "version": "3.6.6"
  }
 },
 "nbformat": 4,
 "nbformat_minor": 2
}
