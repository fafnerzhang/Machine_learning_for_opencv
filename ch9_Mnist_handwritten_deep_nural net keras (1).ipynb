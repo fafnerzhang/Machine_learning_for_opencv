{
 "cells": [
  {
   "cell_type": "code",
   "execution_count": 2,
   "metadata": {},
   "outputs": [],
   "source": [
    "import numpy as np\n",
    "np.random.seed(1337)"
   ]
  },
  {
   "cell_type": "code",
   "execution_count": 3,
   "metadata": {},
   "outputs": [
    {
     "name": "stderr",
     "output_type": "stream",
     "text": [
      "Using TensorFlow backend.\n"
     ]
    }
   ],
   "source": [
    "from keras.datasets import mnist\n",
    "(x_train,y_train),(x_test,y_test)=mnist.load_data()"
   ]
  },
  {
   "cell_type": "code",
   "execution_count": 4,
   "metadata": {},
   "outputs": [],
   "source": [
    "img_rows,img_cols=28,28\n",
    "x_train=x_train.reshape(x_train.shape[0],img_rows,img_cols,1)\n",
    "x_test=x_test.reshape(x_test.shape[0],img_rows,img_cols,1)\n",
    "input_shape=(img_rows,img_cols,1)\n",
    "x_train=x_train.astype('float32')/255.0\n",
    "x_test=x_test.astype('float32')/255.0"
   ]
  },
  {
   "cell_type": "code",
   "execution_count": 11,
   "metadata": {},
   "outputs": [
    {
     "data": {
      "text/plain": [
       "4"
      ]
     },
     "execution_count": 11,
     "metadata": {},
     "output_type": "execute_result"
    }
   ],
   "source": [
    "y_train[]"
   ]
  },
  {
   "cell_type": "code",
   "execution_count": 4,
   "metadata": {},
   "outputs": [],
   "source": [
    "from keras.utils import np_utils\n",
    "n_classes=10\n",
    "y_train=np_utils.to_categorical(y_train,n_classes)\n",
    "y_test=np_utils.to_categorical(y_test,n_classes)"
   ]
  },
  {
   "cell_type": "code",
   "execution_count": 5,
   "metadata": {},
   "outputs": [],
   "source": [
    "from keras import Sequential\n",
    "model=Sequential()"
   ]
  },
  {
   "cell_type": "code",
   "execution_count": 6,
   "metadata": {},
   "outputs": [
    {
     "name": "stderr",
     "output_type": "stream",
     "text": [
      "C:\\Users\\Paul\\Anaconda3\\envs\\opencv\\lib\\site-packages\\ipykernel_launcher.py:4: UserWarning: Update your `Conv2D` call to the Keras 2 API: `Conv2D(32, (3, 3), input_shape=(28, 28, 1..., padding=\"valid\")`\n",
      "  after removing the cwd from sys.path.\n"
     ]
    }
   ],
   "source": [
    "from keras.layers import Conv2D\n",
    "n_filters=32\n",
    "kernal_size=(3,3)\n",
    "model.add(Conv2D(n_filters,kernal_size,border_mode='valid',input_shape=input_shape))"
   ]
  },
  {
   "cell_type": "code",
   "execution_count": 7,
   "metadata": {},
   "outputs": [],
   "source": [
    "from keras.layers import Activation\n",
    "model.add(Activation('relu'))"
   ]
  },
  {
   "cell_type": "code",
   "execution_count": 8,
   "metadata": {},
   "outputs": [
    {
     "name": "stderr",
     "output_type": "stream",
     "text": [
      "C:\\Users\\Paul\\Anaconda3\\envs\\opencv\\lib\\site-packages\\ipykernel_launcher.py:1: UserWarning: Update your `Conv2D` call to the Keras 2 API: `Conv2D(32, (3, 3))`\n",
      "  \"\"\"Entry point for launching an IPython kernel.\n"
     ]
    }
   ],
   "source": [
    "model.add(Conv2D(n_filters,kernal_size[0],kernal_size[1]))\n",
    "model.add(Activation('relu'))"
   ]
  },
  {
   "cell_type": "code",
   "execution_count": 9,
   "metadata": {},
   "outputs": [],
   "source": [
    "from keras.layers import MaxPooling2D,Dropout\n",
    "pool_size=(2,2)\n",
    "model.add(MaxPooling2D(pool_size=pool_size))\n",
    "model.add(Dropout(0.25))\n",
    "model.add(MaxPooling2D(pool_size=pool_size))\n",
    "model.add(Dropout(0.25))"
   ]
  },
  {
   "cell_type": "code",
   "execution_count": 10,
   "metadata": {},
   "outputs": [],
   "source": [
    "from keras.layers import Flatten,Dense\n",
    "model.add(Flatten())\n",
    "model.add(Dense(128))\n",
    "model.add(Activation('relu'))\n",
    "model.add(Dropout(0.5))\n",
    "model.add(Dense(n_classes, activation='softmax'))\n",
    "model.compile(loss='categorical_crossentropy',optimizer='adadelta',metrics=['accuracy'])"
   ]
  },
  {
   "cell_type": "code",
   "execution_count": 11,
   "metadata": {},
   "outputs": [
    {
     "name": "stdout",
     "output_type": "stream",
     "text": [
      "Train on 60000 samples, validate on 10000 samples\n",
      "Epoch 1/12\n",
      "60000/60000 [==============================] - 6s 92us/step - loss: 0.3643 - acc: 0.8840 - val_loss: 0.0693 - val_acc: 0.9801\n",
      "Epoch 2/12\n",
      "60000/60000 [==============================] - 3s 56us/step - loss: 0.1248 - acc: 0.9623 - val_loss: 0.0537 - val_acc: 0.9847\n",
      "Epoch 3/12\n",
      "60000/60000 [==============================] - 3s 55us/step - loss: 0.0999 - acc: 0.9702 - val_loss: 0.0430 - val_acc: 0.9875\n",
      "Epoch 4/12\n",
      "60000/60000 [==============================] - 3s 56us/step - loss: 0.0837 - acc: 0.9746 - val_loss: 0.0363 - val_acc: 0.9887\n",
      "Epoch 5/12\n",
      "60000/60000 [==============================] - 3s 55us/step - loss: 0.0750 - acc: 0.9775 - val_loss: 0.0341 - val_acc: 0.9896\n",
      "Epoch 6/12\n",
      "60000/60000 [==============================] - 3s 55us/step - loss: 0.0714 - acc: 0.9784 - val_loss: 0.0309 - val_acc: 0.9902\n",
      "Epoch 7/12\n",
      "60000/60000 [==============================] - 3s 55us/step - loss: 0.0676 - acc: 0.9801 - val_loss: 0.0298 - val_acc: 0.9904\n",
      "Epoch 8/12\n",
      "60000/60000 [==============================] - 3s 55us/step - loss: 0.0583 - acc: 0.9823 - val_loss: 0.0291 - val_acc: 0.9903\n",
      "Epoch 9/12\n",
      "60000/60000 [==============================] - 3s 55us/step - loss: 0.0610 - acc: 0.9821 - val_loss: 0.0273 - val_acc: 0.9908\n",
      "Epoch 10/12\n",
      "60000/60000 [==============================] - 3s 56us/step - loss: 0.0570 - acc: 0.9824 - val_loss: 0.0266 - val_acc: 0.9915\n",
      "Epoch 11/12\n",
      "60000/60000 [==============================] - 3s 56us/step - loss: 0.0558 - acc: 0.9834 - val_loss: 0.0259 - val_acc: 0.9916\n",
      "Epoch 12/12\n",
      "60000/60000 [==============================] - 3s 57us/step - loss: 0.0539 - acc: 0.9836 - val_loss: 0.0256 - val_acc: 0.9909\n"
     ]
    },
    {
     "data": {
      "text/plain": [
       "<keras.callbacks.History at 0x19883301f28>"
      ]
     },
     "execution_count": 11,
     "metadata": {},
     "output_type": "execute_result"
    }
   ],
   "source": [
    "model.fit(x_train, y_train, batch_size=128, epochs=12,verbose=1, validation_data=(x_test, y_test))"
   ]
  },
  {
   "cell_type": "code",
   "execution_count": 12,
   "metadata": {},
   "outputs": [
    {
     "name": "stdout",
     "output_type": "stream",
     "text": [
      "10000/10000 [==============================] - 1s 52us/step\n"
     ]
    },
    {
     "data": {
      "text/plain": [
       "[0.02557894112073118, 0.9909]"
      ]
     },
     "execution_count": 12,
     "metadata": {},
     "output_type": "execute_result"
    }
   ],
   "source": [
    "model.evaluate(x_test, y_test, verbose=1)"
   ]
  }
 ],
 "metadata": {
  "kernelspec": {
   "display_name": "Python 3",
   "language": "python",
   "name": "python3"
  },
  "language_info": {
   "codemirror_mode": {
    "name": "ipython",
    "version": 3
   },
   "file_extension": ".py",
   "mimetype": "text/x-python",
   "name": "python",
   "nbconvert_exporter": "python",
   "pygments_lexer": "ipython3",
   "version": "3.6.7"
  }
 },
 "nbformat": 4,
 "nbformat_minor": 2
}
